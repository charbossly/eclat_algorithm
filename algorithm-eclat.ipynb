{
 "cells": [
  {
   "cell_type": "code",
   "execution_count": 3,
   "id": "8decebf8-2494-47dd-bbe3-382219518a2c",
   "metadata": {},
   "outputs": [],
   "source": [
    "#import library\n",
    "import numpy as np\n",
    "import matplotlib.pyplot as plt\n",
    "import pandas as pd\n",
    "from apyori import apriori\n",
    "from mlxtend.frequent_patterns import apriori\n",
    "from mlxtend.frequent_patterns import association_rules\n",
    "from mlxtend.preprocessing import TransactionEncoder"
   ]
  },
  {
   "cell_type": "code",
   "execution_count": 4,
   "id": "ecec3659-4b3b-4cbd-8d55-475dc1bf38da",
   "metadata": {},
   "outputs": [],
   "source": [
    "#data set\n",
    "dataset = [['Pain','Beurre','Confiture'],\n",
    "           ['Beurre','Coca'],\n",
    "           ['Beurre','Lait'],\n",
    "           ['Pain','Beurre','Coca'],\n",
    "           ['Pain','Lait'],\n",
    "           ['Beurre','Lait'],\n",
    "           ['Pain','Lait'],\n",
    "           ['Pain','Beurre','Lait','Confiture'],\n",
    "           ['Pain','Beurre','Lait']\n",
    " ]\n"
   ]
  },
  {
   "cell_type": "code",
   "execution_count": 6,
   "id": "476c4900-5533-4dc8-bf10-5627effd644c",
   "metadata": {},
   "outputs": [
    {
     "name": "stdout",
     "output_type": "stream",
     "text": [
      "        0       1          2          3\n",
      "0    Pain  Beurre  Confiture       None\n",
      "1  Beurre    Coca       None       None\n",
      "2  Beurre    Lait       None       None\n",
      "3    Pain  Beurre       Coca       None\n",
      "4    Pain    Lait       None       None\n",
      "5  Beurre    Lait       None       None\n",
      "6    Pain    Lait       None       None\n",
      "7    Pain  Beurre       Lait  Confiture\n",
      "8    Pain  Beurre       Lait       None\n"
     ]
    }
   ],
   "source": [
    "freq_itemsets = pd.DataFrame(dataset)\n",
    "print(freq_itemsets)"
   ]
  },
  {
   "cell_type": "code",
   "execution_count": 7,
   "id": "90d86f88-29fb-44fb-8b87-558a5db57905",
   "metadata": {},
   "outputs": [
    {
     "name": "stdout",
     "output_type": "stream",
     "text": [
      "   Beurre  Coca  Confiture  Lait  Pain\n",
      "0       1     0          1     0     1\n",
      "1       1     1          0     0     0\n",
      "2       1     0          0     1     0\n",
      "3       1     1          0     0     1\n",
      "4       0     0          0     1     1\n",
      "5       1     0          0     1     0\n",
      "6       0     0          0     1     1\n",
      "7       1     0          1     1     1\n",
      "8       1     0          0     1     1\n"
     ]
    }
   ],
   "source": [
    "te = TransactionEncoder()\n",
    "te_ary = te.fit(dataset).transform(dataset)\n",
    "df = pd.DataFrame(te_ary.astype(int), columns=te.columns_)\n",
    "print(df)"
   ]
  },
  {
   "cell_type": "code",
   "execution_count": 8,
   "id": "c43d6fbf-0c7a-4bdd-8a98-49d8bb1b3522",
   "metadata": {},
   "outputs": [
    {
     "name": "stdout",
     "output_type": "stream",
     "text": [
      "     support                   itemsets\n",
      "0   0.777778                   (Beurre)\n",
      "1   0.222222                     (Coca)\n",
      "2   0.222222                (Confiture)\n",
      "3   0.666667                     (Lait)\n",
      "4   0.666667                     (Pain)\n",
      "5   0.222222             (Coca, Beurre)\n",
      "6   0.222222        (Confiture, Beurre)\n",
      "7   0.444444             (Lait, Beurre)\n",
      "8   0.444444             (Pain, Beurre)\n",
      "9   0.222222          (Confiture, Pain)\n",
      "10  0.444444               (Lait, Pain)\n",
      "11  0.222222  (Pain, Confiture, Beurre)\n",
      "12  0.222222       (Lait, Pain, Beurre)\n"
     ]
    }
   ],
   "source": [
    "# Finding frequent itemsets with Eclat\n",
    "min_support = 2/len(df)\n",
    "frequent_itemsets = apriori(df.astype(bool), min_support=min_support, use_colnames=True)\n",
    "print(frequent_itemsets)"
   ]
  },
  {
   "cell_type": "code",
   "execution_count": 9,
   "id": "37488363-7a05-435d-a2fd-d322fccc029d",
   "metadata": {},
   "outputs": [
    {
     "name": "stdout",
     "output_type": "stream",
     "text": [
      "     support                   itemsets\n",
      "11  0.222222  (Pain, Confiture, Beurre)\n",
      "12  0.222222       (Lait, Pain, Beurre)\n"
     ]
    }
   ],
   "source": [
    "# Filtering for frequent itemsets with three items\n",
    "frequent_3_itemsets = frequent_itemsets[frequent_itemsets['itemsets'].apply(lambda x: len(x) == len(max(frequent_itemsets['itemsets'], key=len)))]\n",
    "# Displaying the results\n",
    "print(frequent_3_itemsets)"
   ]
  },
  {
   "cell_type": "code",
   "execution_count": 22,
   "id": "5bd421e2-8076-4d31-b418-d33defb176ad",
   "metadata": {},
   "outputs": [],
   "source": [
    "# Now, let's generate the association rules\n",
    "#rules = association_rules(frequent_3_itemsets, metric=\"confidence\", min_threshold=0.2,support_only=True)\n",
    "#rules['confidence'] = rules['support'] / rules['antecedent support']"
   ]
  },
  {
   "cell_type": "code",
   "execution_count": 23,
   "id": "0cb7af8f-bb64-4912-9d0b-0c1e0869318b",
   "metadata": {},
   "outputs": [],
   "source": [
    "#print(rules[['antecedents', 'consequents', 'support', 'confidence']])"
   ]
  },
  {
   "cell_type": "code",
   "execution_count": 10,
   "id": "b5de69b9-85a1-4632-802c-fe329ac9c429",
   "metadata": {},
   "outputs": [
    {
     "data": {
      "text/html": [
       "<div>\n",
       "<style scoped>\n",
       "    .dataframe tbody tr th:only-of-type {\n",
       "        vertical-align: middle;\n",
       "    }\n",
       "\n",
       "    .dataframe tbody tr th {\n",
       "        vertical-align: top;\n",
       "    }\n",
       "\n",
       "    .dataframe thead th {\n",
       "        text-align: right;\n",
       "    }\n",
       "</style>\n",
       "<table border=\"1\" class=\"dataframe\">\n",
       "  <thead>\n",
       "    <tr style=\"text-align: right;\">\n",
       "      <th></th>\n",
       "      <th>antecedents</th>\n",
       "      <th>consequents</th>\n",
       "      <th>antecedent support</th>\n",
       "      <th>consequent support</th>\n",
       "      <th>support</th>\n",
       "      <th>confidence</th>\n",
       "      <th>lift</th>\n",
       "      <th>leverage</th>\n",
       "      <th>conviction</th>\n",
       "      <th>zhangs_metric</th>\n",
       "    </tr>\n",
       "  </thead>\n",
       "  <tbody>\n",
       "    <tr>\n",
       "      <th>3</th>\n",
       "      <td>(Confiture, Pain)</td>\n",
       "      <td>(Beurre)</td>\n",
       "      <td>0.222222</td>\n",
       "      <td>0.777778</td>\n",
       "      <td>0.222222</td>\n",
       "      <td>1.0</td>\n",
       "      <td>1.285714</td>\n",
       "      <td>0.049383</td>\n",
       "      <td>inf</td>\n",
       "      <td>0.285714</td>\n",
       "    </tr>\n",
       "    <tr>\n",
       "      <th>4</th>\n",
       "      <td>(Confiture, Beurre)</td>\n",
       "      <td>(Pain)</td>\n",
       "      <td>0.222222</td>\n",
       "      <td>0.666667</td>\n",
       "      <td>0.222222</td>\n",
       "      <td>1.0</td>\n",
       "      <td>1.500000</td>\n",
       "      <td>0.074074</td>\n",
       "      <td>inf</td>\n",
       "      <td>0.428571</td>\n",
       "    </tr>\n",
       "    <tr>\n",
       "      <th>5</th>\n",
       "      <td>(Confiture)</td>\n",
       "      <td>(Beurre, Pain)</td>\n",
       "      <td>0.222222</td>\n",
       "      <td>0.444444</td>\n",
       "      <td>0.222222</td>\n",
       "      <td>1.0</td>\n",
       "      <td>2.250000</td>\n",
       "      <td>0.123457</td>\n",
       "      <td>inf</td>\n",
       "      <td>0.714286</td>\n",
       "    </tr>\n",
       "  </tbody>\n",
       "</table>\n",
       "</div>"
      ],
      "text/plain": [
       "           antecedents     consequents  antecedent support  \\\n",
       "3    (Confiture, Pain)        (Beurre)            0.222222   \n",
       "4  (Confiture, Beurre)          (Pain)            0.222222   \n",
       "5          (Confiture)  (Beurre, Pain)            0.222222   \n",
       "\n",
       "   consequent support   support  confidence      lift  leverage  conviction  \\\n",
       "3            0.777778  0.222222         1.0  1.285714  0.049383         inf   \n",
       "4            0.666667  0.222222         1.0  1.500000  0.074074         inf   \n",
       "5            0.444444  0.222222         1.0  2.250000  0.123457         inf   \n",
       "\n",
       "   zhangs_metric  \n",
       "3       0.285714  \n",
       "4       0.428571  \n",
       "5       0.714286  "
      ]
     },
     "execution_count": 10,
     "metadata": {},
     "output_type": "execute_result"
    }
   ],
   "source": [
    "min_confidence = 0.7\n",
    "rules = association_rules(frequent_itemsets, metric=\"confidence\", min_threshold=min_confidence)\n",
    "rules_3_itemsets = rules[((rules['antecedents'].apply(len)) + (rules['consequents'].apply(len)) == len(max(frequent_itemsets['itemsets'], key=len)))]\n",
    "rules_3_itemsets"
   ]
  },
  {
   "cell_type": "code",
   "execution_count": null,
   "id": "cc851317-2a0a-40e2-8366-a24cd1352e4c",
   "metadata": {},
   "outputs": [],
   "source": []
  }
 ],
 "metadata": {
  "kernelspec": {
   "display_name": "Python 3 (ipykernel)",
   "language": "python",
   "name": "python3"
  },
  "language_info": {
   "codemirror_mode": {
    "name": "ipython",
    "version": 3
   },
   "file_extension": ".py",
   "mimetype": "text/x-python",
   "name": "python",
   "nbconvert_exporter": "python",
   "pygments_lexer": "ipython3",
   "version": "3.10.6"
  }
 },
 "nbformat": 4,
 "nbformat_minor": 5
}
